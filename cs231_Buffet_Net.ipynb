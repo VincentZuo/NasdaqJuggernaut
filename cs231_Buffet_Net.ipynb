{
  "nbformat": 4,
  "nbformat_minor": 0,
  "metadata": {
    "colab": {
      "name": "cs231 Buffet Net",
      "provenance": [],
      "collapsed_sections": [],
      "authorship_tag": "ABX9TyPYuN6XnT2Mo3XF9WfcsdWj",
      "include_colab_link": true
    },
    "kernelspec": {
      "name": "python3",
      "display_name": "Python 3"
    }
  },
  "cells": [
    {
      "cell_type": "markdown",
      "metadata": {
        "id": "view-in-github",
        "colab_type": "text"
      },
      "source": [
        "<a href=\"https://colab.research.google.com/github/VincentZuo/NasdaqJuggernaut/blob/master/cs231_Buffet_Net.ipynb\" target=\"_parent\"><img src=\"https://colab.research.google.com/assets/colab-badge.svg\" alt=\"Open In Colab\"/></a>"
      ]
    },
    {
      "cell_type": "code",
      "metadata": {
        "id": "Q8lJmqbepmVj",
        "colab_type": "code",
        "outputId": "838e96d8-21f8-4638-a8b4-62be690afae7",
        "colab": {
          "base_uri": "https://localhost:8080/",
          "height": 598
        }
      },
      "source": [
        "!pip install alpha_vantage\n",
        "!pip install pytz"
      ],
      "execution_count": 1,
      "outputs": [
        {
          "output_type": "stream",
          "text": [
            "Collecting alpha_vantage\n",
            "  Downloading https://files.pythonhosted.org/packages/12/e3/72ec32d859a363c2eebaa42e0d4abb5ac7172a7a77a2307576ceb5fc1b42/alpha_vantage-2.2.0.tar.gz\n",
            "Collecting aiohttp\n",
            "\u001b[?25l  Downloading https://files.pythonhosted.org/packages/7c/39/7eb5f98d24904e0f6d3edb505d4aa60e3ef83c0a58d6fe18244a51757247/aiohttp-3.6.2-cp36-cp36m-manylinux1_x86_64.whl (1.2MB)\n",
            "\u001b[K     |████████████████████████████████| 1.2MB 7.3MB/s \n",
            "\u001b[?25hRequirement already satisfied: requests in /usr/local/lib/python3.6/dist-packages (from alpha_vantage) (2.23.0)\n",
            "Collecting async-timeout<4.0,>=3.0\n",
            "  Downloading https://files.pythonhosted.org/packages/e1/1e/5a4441be21b0726c4464f3f23c8b19628372f606755a9d2e46c187e65ec4/async_timeout-3.0.1-py3-none-any.whl\n",
            "Collecting idna-ssl>=1.0; python_version < \"3.7\"\n",
            "  Downloading https://files.pythonhosted.org/packages/46/03/07c4894aae38b0de52b52586b24bf189bb83e4ddabfe2e2c8f2419eec6f4/idna-ssl-1.1.0.tar.gz\n",
            "Collecting multidict<5.0,>=4.5\n",
            "\u001b[?25l  Downloading https://files.pythonhosted.org/packages/1a/95/f50352b5366e7d579e8b99631680a9e32e1b22adfa1629a8f23b1d22d5e2/multidict-4.7.6-cp36-cp36m-manylinux1_x86_64.whl (148kB)\n",
            "\u001b[K     |████████████████████████████████| 153kB 40.0MB/s \n",
            "\u001b[?25hRequirement already satisfied: attrs>=17.3.0 in /usr/local/lib/python3.6/dist-packages (from aiohttp->alpha_vantage) (19.3.0)\n",
            "Requirement already satisfied: typing-extensions>=3.6.5; python_version < \"3.7\" in /usr/local/lib/python3.6/dist-packages (from aiohttp->alpha_vantage) (3.6.6)\n",
            "Collecting yarl<2.0,>=1.0\n",
            "\u001b[?25l  Downloading https://files.pythonhosted.org/packages/95/8f/0209fc5d975f839344c33c822ff2f7ef80f6b1e984673a5a68f960bfa583/yarl-1.4.2-cp36-cp36m-manylinux1_x86_64.whl (252kB)\n",
            "\u001b[K     |████████████████████████████████| 256kB 42.1MB/s \n",
            "\u001b[?25hRequirement already satisfied: chardet<4.0,>=2.0 in /usr/local/lib/python3.6/dist-packages (from aiohttp->alpha_vantage) (3.0.4)\n",
            "Requirement already satisfied: certifi>=2017.4.17 in /usr/local/lib/python3.6/dist-packages (from requests->alpha_vantage) (2020.4.5.1)\n",
            "Requirement already satisfied: urllib3!=1.25.0,!=1.25.1,<1.26,>=1.21.1 in /usr/local/lib/python3.6/dist-packages (from requests->alpha_vantage) (1.24.3)\n",
            "Requirement already satisfied: idna<3,>=2.5 in /usr/local/lib/python3.6/dist-packages (from requests->alpha_vantage) (2.9)\n",
            "Building wheels for collected packages: alpha-vantage, idna-ssl\n",
            "  Building wheel for alpha-vantage (setup.py) ... \u001b[?25l\u001b[?25hdone\n",
            "  Created wheel for alpha-vantage: filename=alpha_vantage-2.2.0-cp36-none-any.whl size=25705 sha256=72c2dbcf556585b301813fd30a9964e5ec86cb68065aebb550498dec8c4269ec\n",
            "  Stored in directory: /root/.cache/pip/wheels/3a/fa/05/80b0afcbd2a4de8bd2a0c5cd77084e3d3a9cc12c48be9b7f84\n",
            "  Building wheel for idna-ssl (setup.py) ... \u001b[?25l\u001b[?25hdone\n",
            "  Created wheel for idna-ssl: filename=idna_ssl-1.1.0-cp36-none-any.whl size=3162 sha256=763419519d9eea0df53bea41d347b2a6dd817c722b9755448f57a3082bbc275d\n",
            "  Stored in directory: /root/.cache/pip/wheels/d3/00/b3/32d613e19e08a739751dd6bf998cfed277728f8b2127ad4eb7\n",
            "Successfully built alpha-vantage idna-ssl\n",
            "Installing collected packages: async-timeout, idna-ssl, multidict, yarl, aiohttp, alpha-vantage\n",
            "Successfully installed aiohttp-3.6.2 alpha-vantage-2.2.0 async-timeout-3.0.1 idna-ssl-1.1.0 multidict-4.7.6 yarl-1.4.2\n",
            "Requirement already satisfied: pytz in /usr/local/lib/python3.6/dist-packages (2018.9)\n"
          ],
          "name": "stdout"
        }
      ]
    },
    {
      "cell_type": "code",
      "metadata": {
        "id": "bxfmJm6hpuP5",
        "colab_type": "code",
        "outputId": "a054e606-f45b-4535-f49b-3b6b79a31db6",
        "colab": {
          "base_uri": "https://localhost:8080/",
          "height": 122
        }
      },
      "source": [
        "from google.colab import drive\n",
        "\n",
        "drive.mount('/content/gdrive')\n",
        "ALPHAVANTAGE_API_KEYS = [\"XX6G2N4G6ZLM3QAT\", \"AXE6TX2TV7749TFN\", \"5J256FHJ75YQUM4V\"]\n"
      ],
      "execution_count": 2,
      "outputs": [
        {
          "output_type": "stream",
          "text": [
            "Go to this URL in a browser: https://accounts.google.com/o/oauth2/auth?client_id=947318989803-6bn6qk8qdgf4n4g3pfee6491hc0brc4i.apps.googleusercontent.com&redirect_uri=urn%3aietf%3awg%3aoauth%3a2.0%3aoob&response_type=code&scope=email%20https%3a%2f%2fwww.googleapis.com%2fauth%2fdocs.test%20https%3a%2f%2fwww.googleapis.com%2fauth%2fdrive%20https%3a%2f%2fwww.googleapis.com%2fauth%2fdrive.photos.readonly%20https%3a%2f%2fwww.googleapis.com%2fauth%2fpeopleapi.readonly\n",
            "\n",
            "Enter your authorization code:\n",
            "··········\n",
            "Mounted at /content/gdrive\n"
          ],
          "name": "stdout"
        }
      ]
    },
    {
      "cell_type": "markdown",
      "metadata": {
        "id": "oNrVGLXMlB4D",
        "colab_type": "text"
      },
      "source": [
        "Set up api access"
      ]
    },
    {
      "cell_type": "code",
      "metadata": {
        "id": "YIeet7Zap1Ba",
        "colab_type": "code",
        "colab": {}
      },
      "source": [
        "from alpha_vantage.techindicators import TechIndicators\n",
        "from alpha_vantage.timeseries import TimeSeries\n",
        "import matplotlib.pyplot as plt\n",
        "\n",
        "ts = TimeSeries(key=ALPHAVANTAGE_API_KEYS[1],  output_format='pandas')"
      ],
      "execution_count": 0,
      "outputs": []
    },
    {
      "cell_type": "markdown",
      "metadata": {
        "id": "Vn9fl9wolE4K",
        "colab_type": "text"
      },
      "source": [
        "Data processing "
      ]
    },
    {
      "cell_type": "code",
      "metadata": {
        "id": "WuPZiyi8cvvt",
        "colab_type": "code",
        "colab": {}
      },
      "source": [
        "import numpy as np\n",
        "import time\n",
        "import pickle\n",
        "from datetime import datetime\n",
        "\n",
        "# Get daily closing data\n",
        "def get_close_data(symbol):\n",
        "  daily_data = ts.get_daily(symbol=symbol, outputsize='full')\n",
        "  close_data = daily_data[0].sort_index(axis=0, ascending=True)[['4. close']].to_numpy().flatten() \n",
        "  return close_data\n",
        "\n",
        "# Volatility adjusted target percentage change.\n",
        "def vol_adj_delta(benchmark_std, ticker_std, target_delta):\n",
        "  return ticker_std / benchmark_std * target_delta\n",
        "\n",
        "# Windowed series to prediction generation\n",
        "def window_predction(index, window_size, array, adj_delta_target):\n",
        "  # Skip out of bounds\n",
        "  if (index < window_size or index + 2 >= len(array)):\n",
        "    return None\n",
        "  current_delta = float(array[index])/float(array[index-1]) - 1.0\n",
        "  # We are only interested in delta above adj_delta_target\n",
        "  if abs(current_delta) < adj_delta_target:\n",
        "    return None\n",
        "  # Gap down is 0 label, gap up is 1 label\n",
        "  label = 0\n",
        "  if current_delta > 0:\n",
        "    label = 1\n",
        "  return (array[index-window_size:index], label)\n",
        "\n",
        "# Run window_predction across the entire array\n",
        "def get_array_training_labels(array, window_size, adj_delta_target):\n",
        "  training_data = []\n",
        "  training_lbls = []\n",
        "  for i in range(len(array)):\n",
        "    result = window_predction(i, window_size, array, adj_delta_target)\n",
        "    if result == None:\n",
        "      continue\n",
        "    training_data.append(result[0])\n",
        "    training_lbls.append(result[1])\n",
        "  return (training_data, training_lbls)\n",
        "\n",
        "# generate a 2d array from series, will used as image input of size window_size x window_size\n",
        "def gen_image_from_series(window_data, pos_neg=False):\n",
        "  window_size = len(window_data)\n",
        "  high = np.max(window_data)\n",
        "  low = np.min(window_data)\n",
        "  result = np.zeros((window_size+1, window_size, 1))\n",
        "  if pos_neg:\n",
        "    result = np.full((window_size+1, window_size, 1), -0.5)\n",
        "  for i in range(window_size):\n",
        "    # Normalize data to within window\n",
        "    position = int(window_size * (window_data[i] - low)/(high - low))\n",
        "    result[position][i][0] += 1\n",
        "  return result\n",
        "\n",
        "def gen_ticker_map(ticker_array):\n",
        "  dict_data = {}\n",
        "  for ticker in ticker_array:\n",
        "    series_data = get_close_data(ticker)\n",
        "    dict_data[ticker] = series_data\n",
        "    print(ticker + \" produced number of traning samples: \" + str(series_data.size))\n",
        "    time.sleep(15)\n",
        "  file_name = str(datetime.date(datetime.now())) + \"tickers\"\n",
        "  with open(file_name, 'wb') as handle:\n",
        "    pickle.dump(dict_data, handle, protocol=pickle.HIGHEST_PROTOCOL)\n",
        "  \n",
        "\n",
        "# Generate all traning images for all tickers in array\n",
        "def gen_ticker_train_data(window_size, target_delta, benmark_std, pos_neg=False):\n",
        "  file_name = str(datetime.date(datetime.now())) + \"tickers\"\n",
        "  ticker_map = {}\n",
        "  with open(file_name, 'rb') as handle:\n",
        "      ticker_map = pickle.load(handle)\n",
        "  training_imgs = []\n",
        "  training_lbls = []\n",
        "  for ticker, series_data in ticker_map.items():\n",
        "    series_std = np.std(series_data)\n",
        "    adj_del = vol_adj_delta(benmark_std, series_std, target_delta)\n",
        "    data, labels = get_array_training_labels(series_data,\\\n",
        "                                             window_size,\\\n",
        "                                             adj_del)\n",
        "    for i in range(len(data)):\n",
        "      image_data = gen_image_from_series(data[i], pos_neg)\n",
        "      training_imgs.append(image_data)\n",
        "      training_lbls.append(labels[i])\n",
        "    print(ticker + \" produced number of traning samples: \" + str(len(data)))\n",
        "    print(\"Postive: \", sum(labels), \" negative: \", len(data) - sum(labels))\n",
        "  return (training_imgs, training_lbls)\n",
        "\n",
        "\n",
        "\n"
      ],
      "execution_count": 0,
      "outputs": []
    },
    {
      "cell_type": "code",
      "metadata": {
        "id": "KMOjX42wgdPl",
        "colab_type": "code",
        "colab": {}
      },
      "source": [
        "BENCH_MARK_SERIES = get_close_data('SPY')\n",
        "BENCH_MARK_VOLATILITY = np.std(BENCH_MARK_SERIES)"
      ],
      "execution_count": 0,
      "outputs": []
    },
    {
      "cell_type": "code",
      "metadata": {
        "id": "cqRgouyz8aKr",
        "colab_type": "code",
        "colab": {}
      },
      "source": [
        "import random\n",
        "\n",
        "# Data split\n",
        "def load_stock_data(X_in, y_in, train_ratio, val_ratio, normalize=True):\n",
        "\n",
        "  zipped_list = list(zip(X_in, y_in))\n",
        "  random.shuffle(zipped_list)\n",
        "  X_in, y_in = zip(*zipped_list)\n",
        "\n",
        "  X_in = np.array(X_in)\n",
        "  y_in = np.array(y_in)\n",
        "\n",
        "  num_training = int(train_ratio*len(X_in))\n",
        "  num_validation = int(val_ratio*len(X_in))\n",
        "  num_testing = len(X_in) - num_training - num_validation\n",
        "\n",
        "  # Subsample the data\n",
        "  mask = range(num_training + num_validation, num_training + num_validation + num_testing)\n",
        "  X_test = X_in[mask]\n",
        "  y_test = y_in[mask]\n",
        "  mask = range(num_training, num_training + num_validation)\n",
        "  X_val = X_in[mask]\n",
        "  y_val = y_in[mask]\n",
        "  mask = range(num_training)\n",
        "  X_train = X_in[mask]\n",
        "  y_train = y_in[mask]\n",
        "\n",
        "  if normalize:\n",
        "    mean_pixel = X_train.mean(axis=(0, 1, 2), keepdims=True)\n",
        "    std_pixel = X_train.std(axis=(0, 1, 2), keepdims=True)\n",
        "    X_train = (X_train - mean_pixel) / std_pixel\n",
        "    X_val = (X_val - mean_pixel) / std_pixel\n",
        "    X_test = (X_test - mean_pixel) / std_pixel\n",
        "  return X_train, y_train, X_val, y_val, X_test, y_test\n"
      ],
      "execution_count": 0,
      "outputs": []
    },
    {
      "cell_type": "markdown",
      "metadata": {
        "id": "HvXlr7hBi66V",
        "colab_type": "text"
      },
      "source": [
        "Pick Stock"
      ]
    },
    {
      "cell_type": "code",
      "metadata": {
        "id": "DqO2s4QlhmZa",
        "colab_type": "code",
        "outputId": "6b5057d1-a54d-4cdb-bbd4-0224c9054d37",
        "colab": {
          "base_uri": "https://localhost:8080/",
          "height": 1000
        }
      },
      "source": [
        "etf_tickers = ['SPY', 'XLK', 'XLE', 'XLF', 'XLU', 'XLV', 'XLI', 'XLY', 'XLP', 'XLB', 'REM']\n",
        "tech_tickers = ['AAPL', 'MSFT', 'GOOG', 'FB', 'TSLA', 'AMZN']\n",
        "consumer_tickers = ['UBER', 'DAL', 'CCL']\n",
        "energy_tickers = ['XOM', 'CVX', 'OXY']\n",
        "\n",
        "experiment_tickers = etf_tickers + tech_tickers + energy_tickers + consumer_tickers + energy_tickers\n",
        "\n",
        "gen_ticker_map(experiment_tickers)\n",
        "\n",
        "# data, labels = gen_ticker_train_data(30, 0.02, BENCH_MARK_VOLATILITY, pos_neg=False)\n",
        "# X_train, y_train, X_val, y_val, X_test, y_test = load_stock_data(data, labels, 0.7, 0.15, normalize=True)\n",
        "\n",
        "data, labels = gen_ticker_train_data(30, 0.02, BENCH_MARK_VOLATILITY, pos_neg=True)\n",
        "X_train, y_train, X_val, y_val, X_test, y_test = load_stock_data(data, labels, 0.7, 0.15, normalize=False)\n",
        "\n",
        "print('Train data shape: ', X_train.shape)\n",
        "print('Train labels shape: ', y_train.shape, y_train.dtype)\n",
        "print('Validation data shape: ', X_val.shape)\n",
        "print('Validation labels shape: ', y_val.shape)\n",
        "print('Test data shape: ', X_test.shape)\n",
        "print('Test labels shape: ', y_test.shape)"
      ],
      "execution_count": 8,
      "outputs": [
        {
          "output_type": "stream",
          "text": [
            "SPY produced number of traning samples: 5033\n",
            "XLK produced number of traning samples: 5033\n",
            "XLE produced number of traning samples: 5033\n",
            "XLF produced number of traning samples: 5033\n",
            "XLU produced number of traning samples: 5033\n",
            "XLV produced number of traning samples: 5033\n",
            "XLI produced number of traning samples: 5033\n",
            "XLY produced number of traning samples: 5033\n",
            "XLP produced number of traning samples: 5033\n",
            "XLB produced number of traning samples: 5033\n",
            "REM produced number of traning samples: 3296\n",
            "AAPL produced number of traning samples: 5033\n",
            "MSFT produced number of traning samples: 5033\n",
            "GOOG produced number of traning samples: 1560\n",
            "FB produced number of traning samples: 2025\n",
            "TSLA produced number of traning samples: 2502\n",
            "AMZN produced number of traning samples: 5033\n",
            "XOM produced number of traning samples: 5033\n",
            "CVX produced number of traning samples: 5033\n",
            "OXY produced number of traning samples: 5033\n",
            "UBER produced number of traning samples: 271\n",
            "DAL produced number of traning samples: 3297\n",
            "CCL produced number of traning samples: 5033\n",
            "XOM produced number of traning samples: 5033\n",
            "CVX produced number of traning samples: 5033\n",
            "OXY produced number of traning samples: 5033\n",
            "SPY produced number of traning samples: 407\n",
            "Postive:  175  negative:  232\n",
            "XLK produced number of traning samples: 2651\n",
            "Postive:  1398  negative:  1253\n",
            "XLE produced number of traning samples: 3063\n",
            "Postive:  1623  negative:  1440\n",
            "XLF produced number of traning samples: 4152\n",
            "Postive:  2148  negative:  2004\n",
            "XLU produced number of traning samples: 3353\n",
            "Postive:  1818  negative:  1535\n",
            "XLV produced number of traning samples: 1925\n",
            "Postive:  1028  negative:  897\n",
            "XLI produced number of traning samples: 2714\n",
            "Postive:  1446  negative:  1268\n",
            "XLY produced number of traning samples: 1729\n",
            "Postive:  896  negative:  833\n",
            "XLP produced number of traning samples: 2689\n",
            "Postive:  1424  negative:  1265\n",
            "XLB produced number of traning samples: 3557\n",
            "Postive:  1878  negative:  1679\n",
            "REM produced number of traning samples: 1892\n",
            "Postive:  978  negative:  914\n",
            "AAPL produced number of traning samples: 214\n",
            "Postive:  117  negative:  97\n",
            "MSFT produced number of traning samples: 1985\n",
            "Postive:  1033  negative:  952\n",
            "GOOG produced number of traning samples: 5\n",
            "Postive:  4  negative:  1\n",
            "FB produced number of traning samples: 510\n",
            "Postive:  271  negative:  239\n",
            "TSLA produced number of traning samples: 236\n",
            "Postive:  128  negative:  108\n",
            "AMZN produced number of traning samples: 13\n",
            "Postive:  10  negative:  3\n",
            "XOM produced number of traning samples: 3012\n",
            "Postive:  1549  negative:  1463\n",
            "CVX produced number of traning samples: 2877\n",
            "Postive:  1507  negative:  1370\n",
            "OXY produced number of traning samples: 3070\n",
            "Postive:  1611  negative:  1459\n",
            "UBER produced number of traning samples: 222\n",
            "Postive:  106  negative:  116\n",
            "DAL produced number of traning samples: 2460\n",
            "Postive:  1259  negative:  1201\n",
            "CCL produced number of traning samples: 3904\n",
            "Postive:  2007  negative:  1897\n",
            "Train data shape:  (32647, 31, 30, 1)\n",
            "Train labels shape:  (32647,) int64\n",
            "Validation data shape:  (6996, 31, 30, 1)\n",
            "Validation labels shape:  (6996,)\n",
            "Test data shape:  (6997, 31, 30, 1)\n",
            "Test labels shape:  (6997,)\n"
          ],
          "name": "stdout"
        }
      ]
    },
    {
      "cell_type": "code",
      "metadata": {
        "id": "F0PYIsGq2qVF",
        "colab_type": "code",
        "colab": {}
      },
      "source": [
        "import os\n",
        "import tensorflow as tf\n",
        "import numpy as np\n",
        "import math\n",
        "import timeit\n",
        "import matplotlib.pyplot as plt\n",
        "from tensorflow.keras import regularizers\n",
        " \n",
        " \n",
        "# Build CNN model\n",
        "def model_init_fn():\n",
        "   model = None\n",
        "   num_classes = 2\n",
        "   channel_1 = 16\n",
        "   channel_2 = 16\n",
        "   initializer = tf.initializers.VarianceScaling(scale=2.0)\n",
        "   many_layers = [\n",
        "       tf.keras.layers.InputLayer(input_shape=(31, 30, 1)),\n",
        "       tf.keras.layers.Conv2D(filters=channel_1, \\\n",
        "                              kernel_size=5, \\\n",
        "                              strides=(1, 1), \\\n",
        "                              padding=\"SAME\", \\\n",
        "                              activation='relu', \\\n",
        "                              use_bias=True, \\\n",
        "                              kernel_initializer=initializer, \\\n",
        "                              bias_initializer=initializer, \\\n",
        "                              kernel_regularizer=regularizers.l1_l2(l1=5e-4, l2=5e-3), \\\n",
        "                              bias_regularizer=regularizers.l2(1e-4), \\\n",
        "                              activity_regularizer=regularizers.l2(1e-5), \\\n",
        "                              name='conv1'),\n",
        "       tf.keras.layers.Conv2D(filters=channel_2, \\\n",
        "                              kernel_size=3, \\\n",
        "                              strides=(1, 1), \\\n",
        "                              padding=\"SAME\", \\\n",
        "                              activation='relu', \\\n",
        "                              use_bias=True, \\\n",
        "                              kernel_initializer=initializer, \\\n",
        "                              bias_initializer=initializer, \\\n",
        "                              kernel_regularizer=regularizers.l1_l2(l1=5e-4, l2=5e-3), \\\n",
        "                              bias_regularizer=regularizers.l2(1e-4), \\\n",
        "                              activity_regularizer=regularizers.l2(1e-5), \\\n",
        "                              name='conv2'),\n",
        "       tf.keras.layers.Flatten(),\n",
        "       tf.keras.layers.Dense(num_classes, \\\n",
        "                             activation='softmax', \\\n",
        "                             kernel_initializer=initializer)]\n",
        "   model = tf.keras.Sequential(many_layers)\n",
        "   return model\n",
        " \n",
        "learning_rate = 1e-2\n",
        "def optimizer_init_fn():\n",
        "   optimizer = None\n",
        "   optimizer = tf.keras.optimizers.SGD(\n",
        "       learning_rate=learning_rate, momentum=0.5, nesterov=True, name='SGD'\n",
        "   )\n",
        "   return optimizer\n"
      ],
      "execution_count": 0,
      "outputs": []
    },
    {
      "cell_type": "code",
      "metadata": {
        "id": "3OYr3cm925FL",
        "colab_type": "code",
        "outputId": "d338076d-3a9a-40e6-8b1f-333405f4fca2",
        "colab": {
          "base_uri": "https://localhost:8080/",
          "height": 411
        }
      },
      "source": [
        "model = model_init_fn()\n",
        "model.compile(optimizer='sgd',\n",
        "              loss='sparse_categorical_crossentropy',\n",
        "              metrics=[tf.keras.metrics.sparse_categorical_accuracy])\n",
        "model.fit(X_train, y_train, batch_size=50, epochs=10, validation_data=(X_val, y_val))\n",
        "model.evaluate(X_test, y_test)"
      ],
      "execution_count": 10,
      "outputs": [
        {
          "output_type": "stream",
          "text": [
            "Epoch 1/10\n",
            "653/653 [==============================] - 49s 75ms/step - loss: 1.1915 - sparse_categorical_accuracy: 0.5143 - val_loss: 1.1298 - val_sparse_categorical_accuracy: 0.5272\n",
            "Epoch 2/10\n",
            "653/653 [==============================] - 49s 75ms/step - loss: 1.0972 - sparse_categorical_accuracy: 0.5343 - val_loss: 1.0705 - val_sparse_categorical_accuracy: 0.5307\n",
            "Epoch 3/10\n",
            "653/653 [==============================] - 50s 76ms/step - loss: 1.0405 - sparse_categorical_accuracy: 0.5453 - val_loss: 1.0204 - val_sparse_categorical_accuracy: 0.5292\n",
            "Epoch 4/10\n",
            "653/653 [==============================] - 48s 74ms/step - loss: 0.9925 - sparse_categorical_accuracy: 0.5497 - val_loss: 0.9790 - val_sparse_categorical_accuracy: 0.5236\n",
            "Epoch 5/10\n",
            "653/653 [==============================] - 48s 73ms/step - loss: 0.9515 - sparse_categorical_accuracy: 0.5577 - val_loss: 0.9419 - val_sparse_categorical_accuracy: 0.5166\n",
            "Epoch 6/10\n",
            "653/653 [==============================] - 47s 73ms/step - loss: 0.9158 - sparse_categorical_accuracy: 0.5596 - val_loss: 0.9076 - val_sparse_categorical_accuracy: 0.5276\n",
            "Epoch 7/10\n",
            "653/653 [==============================] - 48s 73ms/step - loss: 0.8851 - sparse_categorical_accuracy: 0.5599 - val_loss: 0.8797 - val_sparse_categorical_accuracy: 0.5259\n",
            "Epoch 8/10\n",
            "653/653 [==============================] - 48s 73ms/step - loss: 0.8585 - sparse_categorical_accuracy: 0.5619 - val_loss: 0.8568 - val_sparse_categorical_accuracy: 0.5232\n",
            "Epoch 9/10\n",
            "653/653 [==============================] - 48s 73ms/step - loss: 0.8354 - sparse_categorical_accuracy: 0.5594 - val_loss: 0.8362 - val_sparse_categorical_accuracy: 0.5017\n",
            "Epoch 10/10\n",
            "653/653 [==============================] - 48s 74ms/step - loss: 0.8154 - sparse_categorical_accuracy: 0.5594 - val_loss: 0.8148 - val_sparse_categorical_accuracy: 0.5222\n",
            "219/219 [==============================] - 3s 13ms/step - loss: 0.8160 - sparse_categorical_accuracy: 0.5118\n"
          ],
          "name": "stdout"
        },
        {
          "output_type": "execute_result",
          "data": {
            "text/plain": [
              "[0.8160369992256165, 0.5117907524108887]"
            ]
          },
          "metadata": {
            "tags": []
          },
          "execution_count": 10
        }
      ]
    },
    {
      "cell_type": "markdown",
      "metadata": {
        "id": "1ruWDt-hk1ZU",
        "colab_type": "text"
      },
      "source": [
        "Visualize the shape of the layers"
      ]
    },
    {
      "cell_type": "code",
      "metadata": {
        "id": "qMeUH4xa-u48",
        "colab_type": "code",
        "colab": {
          "base_uri": "https://localhost:8080/",
          "height": 51
        },
        "outputId": "d371dc9a-cebf-477b-df5b-e814e0983e56"
      },
      "source": [
        "\n",
        "for layer in model.layers:\n",
        "\t# check for convolutional layer\n",
        "\tif 'conv' not in layer.name:\n",
        "\t\tcontinue\n",
        "\t# get filter weights\n",
        "\tfilters, biases = layer.get_weights()\n",
        "\tprint(layer.name, filters.shape)"
      ],
      "execution_count": 11,
      "outputs": [
        {
          "output_type": "stream",
          "text": [
            "conv1 (5, 5, 1, 16)\n",
            "conv2 (3, 3, 16, 16)\n"
          ],
          "name": "stdout"
        }
      ]
    },
    {
      "cell_type": "markdown",
      "metadata": {
        "id": "Xf2n_h8Ck8hR",
        "colab_type": "text"
      },
      "source": [
        "Visualize the layer weights"
      ]
    },
    {
      "cell_type": "code",
      "metadata": {
        "id": "IgypYzoljri0",
        "colab_type": "code",
        "colab": {}
      },
      "source": [
        "from matplotlib import pyplot\n",
        "\n",
        "def vis_weight(layer_num):\n",
        "  filters, biases = model.layers[layer_num].get_weights()\n",
        "  f_min, f_max = filters.min(), filters.max()\n",
        "  filters = (filters - f_min) / (f_max - f_min)\n",
        "\n",
        "  n_filters, ix = filters.shape[-1], 1\n",
        "  for i in range(4):\n",
        "    for _ in range(4):\n",
        "      # specify subplot and turn of axis\n",
        "      ax = pyplot.subplot(4, 4, ix)\n",
        "      ax.set_xticks([])\n",
        "      ax.set_yticks([])\n",
        "      # plot filter channel in grayscale\n",
        "      pyplot.imshow(filters[:, :, 0, ix-1], cmap='gray')\n",
        "      ix += 1\n",
        "  # show the figure\n",
        "  pyplot.show()\n",
        "\n",
        "  # show the figure\n",
        "  pyplot.show()"
      ],
      "execution_count": 0,
      "outputs": []
    },
    {
      "cell_type": "code",
      "metadata": {
        "id": "cFlnLYsgTgBP",
        "colab_type": "code",
        "colab": {
          "base_uri": "https://localhost:8080/",
          "height": 252
        },
        "outputId": "685631d0-02ed-4c3d-c98a-32e39e6932ba"
      },
      "source": [
        "vis_weight(0)"
      ],
      "execution_count": 56,
      "outputs": [
        {
          "output_type": "display_data",
          "data": {
            "image/png": "[encoded data removed]",
            "text/plain": [
              "<Figure size 432x288 with 16 Axes>"
            ]
          },
          "metadata": {
            "tags": []
          }
        }
      ]
    },
    {
      "cell_type": "code",
      "metadata": {
        "id": "I0TUmhp7lw9h",
        "colab_type": "code",
        "colab": {}
      },
      "source": [
        "new_model = tf.keras.Model(inputs=model.inputs, outputs=model.layers[1].output)"
      ],
      "execution_count": 0,
      "outputs": []
    },
    {
      "cell_type": "code",
      "metadata": {
        "id": "vULC-R04l8_c",
        "colab_type": "code",
        "colab": {
          "base_uri": "https://localhost:8080/",
          "height": 71
        },
        "outputId": "45b27ea3-69e5-4235-cc11-912c833f27fd"
      },
      "source": [
        "print (X_test[0, :, :, :].shape)\n",
        "result_data = new_model.predict(X_test[0, :, :, :])"
      ],
      "execution_count": 14,
      "outputs": [
        {
          "output_type": "stream",
          "text": [
            "(31, 30, 1)\n",
            "WARNING:tensorflow:Model was constructed with shape (None, 31, 30, 1) for input Tensor(\"input_1:0\", shape=(None, 31, 30, 1), dtype=float32), but it was called on an input with incompatible shape (None, 30, 1, 1).\n"
          ],
          "name": "stdout"
        }
      ]
    },
    {
      "cell_type": "code",
      "metadata": {
        "id": "kVKIMFY3_mCy",
        "colab_type": "code",
        "colab": {
          "base_uri": "https://localhost:8080/",
          "height": 51
        },
        "outputId": "28f403e3-492d-4693-f2ab-42b439f46b40"
      },
      "source": [
        "print(result_data.shape)\n",
        "print(y_test[1])"
      ],
      "execution_count": 29,
      "outputs": [
        {
          "output_type": "stream",
          "text": [
            "(31, 30, 1, 16)\n",
            "1\n"
          ],
          "name": "stdout"
        }
      ]
    },
    {
      "cell_type": "code",
      "metadata": {
        "id": "LmaHwpHWAFrp",
        "colab_type": "code",
        "colab": {}
      },
      "source": [
        "def visual_fmaps(feature_maps):\n",
        "  ix = 1\n",
        "  for i in range(4):\n",
        "    for _ in range(4):\n",
        "      # specify subplot and turn of axis\n",
        "      ax = pyplot.subplot(4, 4, ix)\n",
        "      ax.set_xticks([])\n",
        "      ax.set_yticks([])\n",
        "      # plot filter channel in grayscale\n",
        "      pyplot.imshow(feature_maps[:, :, 0, ix-1], cmap='gray')\n",
        "      ix += 1\n",
        "  # show the figure\n",
        "  pyplot.show()\n",
        "\n",
        "def visual_original(original_data):\n",
        "\n",
        "  ax = pyplot.subplot(4, 4, 1)\n",
        "  ax.set_xticks([])\n",
        "  ax.set_yticks([])\n",
        "  # plot filter channel in grayscale\n",
        "  pyplot.imshow(original_data[:, :, 0], cmap='gray')\n",
        "\n",
        "  pyplot.show()"
      ],
      "execution_count": 0,
      "outputs": []
    },
    {
      "cell_type": "code",
      "metadata": {
        "id": "wKsuwb1CD99f",
        "colab_type": "code",
        "colab": {
          "base_uri": "https://localhost:8080/",
          "height": 334
        },
        "outputId": "cc6fa25d-e24e-435a-eea7-3283d5b46f77"
      },
      "source": [
        "print(y_test[1])\n",
        "visual_original(X_test[1, :, :, :])\n",
        "visual_fmaps(new_model.predict(X_test[1, :, :, :]))"
      ],
      "execution_count": 36,
      "outputs": [
        {
          "output_type": "stream",
          "text": [
            "1\n"
          ],
          "name": "stdout"
        },
        {
          "output_type": "display_data",
          "data": {
            "image/png": "[encoded data removed]",
            "text/plain": [
              "<Figure size 432x288 with 1 Axes>"
            ]
          },
          "metadata": {
            "tags": []
          }
        },
        {
          "output_type": "display_data",
          "data": {
            "image/png": "[encoded data removed]",
            "text/plain": [
              "<Figure size 432x288 with 16 Axes>"
            ]
          },
          "metadata": {
            "tags": []
          }
        }
      ]
    },
    {
      "cell_type": "code",
      "metadata": {
        "id": "clSgooBEClJZ",
        "colab_type": "code",
        "colab": {
          "base_uri": "https://localhost:8080/",
          "height": 334
        },
        "outputId": "64a0c199-7437-49ce-d2fc-325c27b3f0b0"
      },
      "source": [
        "print(y_test[2])\n",
        "visual_original(X_test[2, :, :, :])\n",
        "visual_fmaps(new_model.predict(X_test[2, :, :, :]))"
      ],
      "execution_count": 37,
      "outputs": [
        {
          "output_type": "stream",
          "text": [
            "0\n"
          ],
          "name": "stdout"
        },
        {
          "output_type": "display_data",
          "data": {
            "image/png": "[encoded data removed]",
            "text/plain": [
              "<Figure size 432x288 with 1 Axes>"
            ]
          },
          "metadata": {
            "tags": []
          }
        },
        {
          "output_type": "display_data",
          "data": {
            "image/png": "[encoded data removed]",
            "text/plain": [
              "<Figure size 432x288 with 16 Axes>"
            ]
          },
          "metadata": {
            "tags": []
          }
        }
      ]
    },
    {
      "cell_type": "code",
      "metadata": {
        "id": "CYnfV8-6Cv3u",
        "colab_type": "code",
        "colab": {
          "base_uri": "https://localhost:8080/",
          "height": 334
        },
        "outputId": "60eaa617-e570-422c-94dd-9d3b2223743c"
      },
      "source": [
        "print(y_test[3])\n",
        "visual_original(X_test[3, :, :, :])\n",
        "visual_fmaps(new_model.predict(X_test[3, :, :, :]))"
      ],
      "execution_count": 38,
      "outputs": [
        {
          "output_type": "stream",
          "text": [
            "1\n"
          ],
          "name": "stdout"
        },
        {
          "output_type": "display_data",
          "data": {
            "image/png": "[encoded data removed]",
            "text/plain": [
              "<Figure size 432x288 with 1 Axes>"
            ]
          },
          "metadata": {
            "tags": []
          }
        },
        {
          "output_type": "display_data",
          "data": {
            "image/png": "[encoded data removed]",
            "text/plain": [
              "<Figure size 432x288 with 16 Axes>"
            ]
          },
          "metadata": {
            "tags": []
          }
        }
      ]
    },
    {
      "cell_type": "code",
      "metadata": {
        "id": "S04rvKWgKDIG",
        "colab_type": "code",
        "colab": {
          "base_uri": "https://localhost:8080/",
          "height": 334
        },
        "outputId": "15b66f9d-825c-442f-e0ce-c6ad8dd02ade"
      },
      "source": [
        "print(y_test[4])\n",
        "visual_original(X_test[4, :, :, :])\n",
        "visual_fmaps(new_model.predict(X_test[4, :, :, :]))"
      ],
      "execution_count": 39,
      "outputs": [
        {
          "output_type": "stream",
          "text": [
            "1\n"
          ],
          "name": "stdout"
        },
        {
          "output_type": "display_data",
          "data": {
            "image/png": "[encoded data removed]",
            "text/plain": [
              "<Figure size 432x288 with 1 Axes>"
            ]
          },
          "metadata": {
            "tags": []
          }
        },
        {
          "output_type": "display_data",
          "data": {
            "image/png": "[encoded data removed]",
            "text/plain": [
              "<Figure size 432x288 with 16 Axes>"
            ]
          },
          "metadata": {
            "tags": []
          }
        }
      ]
    },
    {
      "cell_type": "code",
      "metadata": {
        "id": "fWGweE4IKHnN",
        "colab_type": "code",
        "colab": {
          "base_uri": "https://localhost:8080/",
          "height": 334
        },
        "outputId": "2c474b5f-5746-42bb-ea09-c4318f944eaa"
      },
      "source": [
        "print(y_test[6])\n",
        "visual_original(X_test[6, :, :, :])\n",
        "visual_fmaps(new_model.predict(X_test[6, :, :, :]))"
      ],
      "execution_count": 41,
      "outputs": [
        {
          "output_type": "stream",
          "text": [
            "0\n"
          ],
          "name": "stdout"
        },
        {
          "output_type": "display_data",
          "data": {
            "image/png": "[encoded data removed]",
            "text/plain": [
              "<Figure size 432x288 with 1 Axes>"
            ]
          },
          "metadata": {
            "tags": []
          }
        },
        {
          "output_type": "display_data",
          "data": {
            "image/png": "[encoded data removed]",
            "text/plain": [
              "<Figure size 432x288 with 16 Axes>"
            ]
          },
          "metadata": {
            "tags": []
          }
        }
      ]
    },
    {
      "cell_type": "code",
      "metadata": {
        "id": "6wscRk_zKQ-A",
        "colab_type": "code",
        "colab": {
          "base_uri": "https://localhost:8080/",
          "height": 334
        },
        "outputId": "7f9a0342-e0fb-4452-d6bd-cb25edceeff3"
      },
      "source": [
        "print(y_test[10])\n",
        "visual_original(X_test[10, :, :, :])\n",
        "visual_fmaps(new_model.predict(X_test[10, :, :, :]))"
      ],
      "execution_count": 42,
      "outputs": [
        {
          "output_type": "stream",
          "text": [
            "1\n"
          ],
          "name": "stdout"
        },
        {
          "output_type": "display_data",
          "data": {
            "image/png": "[encoded data removed]",
            "text/plain": [
              "<Figure size 432x288 with 1 Axes>"
            ]
          },
          "metadata": {
            "tags": []
          }
        },
        {
          "output_type": "display_data",
          "data": {
            "image/png": "[encoded data removed]",
            "text/plain": [
              "<Figure size 432x288 with 16 Axes>"
            ]
          },
          "metadata": {
            "tags": []
          }
        }
      ]
    },
    {
      "cell_type": "code",
      "metadata": {
        "id": "gaeeCNSDKZTq",
        "colab_type": "code",
        "colab": {}
      },
      "source": [
        ""
      ],
      "execution_count": 0,
      "outputs": []
    }
  ]
}